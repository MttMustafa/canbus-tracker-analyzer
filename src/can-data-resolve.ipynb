{
 "cells": [
  {
   "cell_type": "code",
   "execution_count": 1,
   "metadata": {},
   "outputs": [],
   "source": [
    "import pandas as pd\n",
    "import matplotlib.pyplot as plt\n",
    "import numpy as np"
   ]
  },
  {
   "cell_type": "code",
   "execution_count": 2,
   "metadata": {},
   "outputs": [
    {
     "name": "stdout",
     "output_type": "stream",
     "text": [
      "Importing spreadsheet...\n",
      "Import complete!\n"
     ]
    }
   ],
   "source": [
    "print(\"Importing spreadsheet...\")\n",
    "CAM_DF = pd.read_excel('../docs/düzenli veriler delphi için.xlsx')\n",
    "print(\"Import complete!\")"
   ]
  },
  {
   "cell_type": "code",
   "execution_count": 83,
   "metadata": {},
   "outputs": [],
   "source": [
    "def convert_num_base(colStart, colEnd, conv_in, targetDF = CAM_DF):\n",
    "\n",
    "    # if (colStart not in range(0,10)):\n",
    "    #     print(\"Start column input is invalid!\")\n",
    "    #     return -1\n",
    "    # if (colEnd not in range(0, 10)):\n",
    "    #     print(\"End column input is invalid!\")\n",
    "    #     return -1\n",
    "\n",
    "        \n",
    "    if conv_in not in ('2', '10', 'ascii'):\n",
    "        print(\"Invalid conversion input!\")\n",
    "        return -1\n",
    "\n",
    "    CAM_DF_conv = targetDF.copy()\n",
    "    if(conv_in == '10'):\n",
    "        print(\"Converting to decimal...\")\n",
    "        for column in CAM_DF_conv.columns[colStart:colEnd]:\n",
    "                for (idx, val) in CAM_DF_conv[column].dropna().items():\n",
    "                    CAM_DF_conv.at[idx, column] = int(str(val), 16)\n",
    "        print(\"Decimal conversion complete!\")\n",
    "    elif(conv_in == '2'):\n",
    "        print(\"Converting to binary...\")\n",
    "        for column in CAM_DF_conv.columns[colStart:colEnd]:\n",
    "            for (idx, val) in CAM_DF_conv[column].dropna().items():\n",
    "                CAM_DF_conv.at[idx, column] = bin(int(str(val), 16))\n",
    "        print(\"Binary conversion complete!\")\n",
    "    elif(conv_in == 'ascii'):\n",
    "        print(\"Converting to ASCII...\")\n",
    "        for column in CAM_DF_conv.columns[colStart:colEnd]:\n",
    "            for (idx, val) in CAM_DF_conv[column].dropna().items():\n",
    "                decVal = int(str(val), 16)\n",
    "                if(decVal > 127 or decVal < 33):\n",
    "                    continue\n",
    "                CAM_DF_conv.at[idx, column] = bytes.fromhex(str(val)).decode('ascii')\n",
    "        print(\"ASCII conversion complete!\")\n",
    "\n",
    "    return CAM_DF_conv.iloc[:,:]"
   ]
  },
  {
   "cell_type": "code",
   "execution_count": 6,
   "metadata": {},
   "outputs": [
    {
     "name": "stdout",
     "output_type": "stream",
     "text": [
      "Converting to decimal...\n",
      "Decimal conversion complete!\n",
      "        ID Specifier Index1 Index2 Sub-Index Data1 Data2 Data3 Data4\n",
      "0      683       712      0      0         0     2     0     0   NaN\n",
      "1      615       840     70      2        2D     0     0     0     0\n",
      "2      682        71      0      0         0     0     0     0   NaN\n",
      "3      687       826      0      0         0   132     3     5     0\n",
      "4      618       840     60      7         1     0     0     0     0\n",
      "...    ...       ...    ...    ...       ...   ...   ...   ...   ...\n",
      "65527  215       NaN    NaN    NaN       NaN   NaN   NaN   NaN   NaN\n",
      "65528  687       NaN    NaN    NaN       NaN   NaN   NaN   NaN   NaN\n",
      "65529  687       NaN    NaN    NaN       NaN   NaN   NaN   NaN   NaN\n",
      "65530  598       NaN    NaN    NaN       NaN   NaN   NaN   NaN   NaN\n",
      "65531  598       NaN    NaN    NaN       NaN   NaN   NaN   NaN   NaN\n",
      "\n",
      "[65532 rows x 9 columns]\n"
     ]
    }
   ],
   "source": [
    "print(convert_num_base(5,9, 10))"
   ]
  },
  {
   "cell_type": "code",
   "execution_count": 52,
   "metadata": {},
   "outputs": [],
   "source": [
    "def find_code_piece(read_point, target_code, column, targetDF = CAM_DF):\n",
    "\n",
    "    if(read_point not in ('b', 'e')):\n",
    "        print(\"Reading point input is invalid! \\n'b' -> read from beginning\\n'e' -> read from the end\")\n",
    "        return -1\n",
    "\n",
    "    # if(not str(target_code).isnumeric()):\n",
    "    #     print(\"Code input is not a number!\")\n",
    "    #     return -1\n",
    "\n",
    "    if(column not in targetDF.columns):\n",
    "        print(\"Column does not exist in target spreadsheet!\")\n",
    "        return -1\n",
    "\n",
    "    CAM_DF_collec = pd.DataFrame()\n",
    "\n",
    "    \n",
    "    # Iterates every item in given column\n",
    "    # Converts val in item and target code to string\n",
    "        # slices value as the size of target code\n",
    "        # (from beginning or end check reading point)\n",
    "        # compares it to target code if the strings are the same\n",
    "    # saves the whole line as a dataframe \n",
    "    # concats it to one data frame\n",
    "\n",
    "    if(read_point == 'e'):\n",
    "        for (idx, val) in targetDF[column].items():\n",
    "            if(str(val)[-len(str(target_code)):] == str(target_code)):\n",
    "                df = CAM_DF.iloc[[idx],:9]\n",
    "                CAM_DF_collec = pd.concat([CAM_DF_collec, df])\n",
    "    \n",
    "    if(read_point == 'b'):\n",
    "        for (idx, val) in targetDF[column].items():\n",
    "            if(str(val)[:len(str(target_code))] == str(target_code)):\n",
    "                df = CAM_DF.iloc[[idx],:9]\n",
    "                CAM_DF_collec = pd.concat([CAM_DF_collec, df])\n",
    "    \n",
    "\n",
    "    return (CAM_DF_collec, target_code)\n"
   ]
  },
  {
   "cell_type": "code",
   "execution_count": 5,
   "metadata": {},
   "outputs": [],
   "source": [
    "def save_as_excel(dataframe, file_name):\n",
    "    dataframe.to_excel('../docs/code' + str(file_name) + '.xlsx')"
   ]
  },
  {
   "cell_type": "code",
   "execution_count": 16,
   "metadata": {},
   "outputs": [],
   "source": [
    "save_as_excel(*find_code_piece('e', 60, \"Specifier\"))"
   ]
  },
  {
   "cell_type": "code",
   "execution_count": 21,
   "metadata": {},
   "outputs": [
    {
     "name": "stdout",
     "output_type": "stream",
     "text": [
      "Converting to decimal...\n",
      "Decimal conversion complete!\n"
     ]
    }
   ],
   "source": [
    "data_stats_converted = convert_num_base(0, 1, 10)\n"
   ]
  },
  {
   "cell_type": "code",
   "execution_count": 23,
   "metadata": {},
   "outputs": [],
   "source": [
    "save_as_excel(data_stats_converted.query('1408 <= ID <= 1535'), 'canid580h')\n",
    "save_as_excel(data_stats_converted.query('1536 <= ID <= 1663'), 'canid600h')"
   ]
  },
  {
   "cell_type": "code",
   "execution_count": 36,
   "metadata": {},
   "outputs": [],
   "source": [
    "save_as_excel(*find_code_piece('e', '40', \"Specifier\"))"
   ]
  },
  {
   "cell_type": "code",
   "execution_count": 37,
   "metadata": {},
   "outputs": [],
   "source": [
    "save_as_excel(data_stats_converted.query('ID >= 1663'), 'greater67F')"
   ]
  },
  {
   "cell_type": "code",
   "execution_count": 39,
   "metadata": {},
   "outputs": [
    {
     "data": {
      "text/plain": [
       "array([683, 615, 682, 687, 618, 616, 597, 596, 315, 598, 595, 617, 215,\n",
       "       686, 715, 717, 716, 718])"
      ]
     },
     "execution_count": 39,
     "metadata": {},
     "output_type": "execute_result"
    }
   ],
   "source": [
    "CAM_DF.ID.unique()"
   ]
  },
  {
   "cell_type": "code",
   "execution_count": 115,
   "metadata": {},
   "outputs": [
    {
     "name": "stdout",
     "output_type": "stream",
     "text": [
      "Converting to decimal...\n",
      "Decimal conversion complete!\n",
      "Converting to ASCII...\n",
      "ASCII conversion complete!\n"
     ]
    }
   ],
   "source": [
    "df_code_x = find_code_piece('e', '5', \"ID\", find_code_piece('e', '40', \"Specifier\")[0])[0]\n",
    "df_code_y = find_code_piece('e', '5', \"ID\", find_code_piece('e', '43', \"Specifier\")[0])[0]\n",
    "\n",
    "df_merged= pd.merge(df_code_x, df_code_y, how='inner', on=['Index1', 'Index2', 'Sub-Index']).drop_duplicates()\n",
    "df_merged_sorted = convert_num_base(4, 5, '10', df_merged).sort_values(by=['Sub-Index'])\n",
    "df_merged_sorted_ascii = convert_num_base(11, 15, 'ascii', df_merged_sorted)\n",
    "save_as_excel(df_merged_sorted, 'ascii')"
   ]
  },
  {
   "cell_type": "code",
   "execution_count": null,
   "metadata": {},
   "outputs": [],
   "source": []
  }
 ],
 "metadata": {
  "kernelspec": {
   "display_name": "xlss-parser",
   "language": "python",
   "name": "xlss-parser"
  },
  "orig_nbformat": 4
 },
 "nbformat": 4,
 "nbformat_minor": 2
}
